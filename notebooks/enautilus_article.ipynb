{
 "cells": [
  {
   "cell_type": "markdown",
   "metadata": {},
   "source": [
    "# Replicating results in the original article for E-NAUTILUS\n",
    "In this example, we try to replicate the results presented in one of the examples in the original E-NAUTILUS paper. Since the method of clustering used is not explicitly presented in the paper, we try to replicate the results in a qualitative sense, instead of a quantitative one. Link to paper: https://www.sciencedirect.com/science/article/pii/S0377221715003203?via%3Dihub (Experiment 1)\n",
    "\n",
    "Begin by loading the problem and transforming the 1st and 3rd maximization objectives into minimization ones."
   ]
  },
  {
   "cell_type": "code",
   "execution_count": null,
   "metadata": {},
   "outputs": [],
   "source": [
    "import numpy as np\n",
    "\n",
    "data = np.loadtxt(\"../data/article_enautilus.dat\")\n",
    "# transform the objectives\n",
    "data *= np.array([-1, 1, -1])\n",
    "print(data)"
   ]
  },
  {
   "cell_type": "markdown",
   "metadata": {},
   "source": [
    "Next, define the problem and check the nadir and ideal points."
   ]
  },
  {
   "cell_type": "code",
   "execution_count": null,
   "metadata": {},
   "outputs": [],
   "source": [
    "from desdeov2.methods.InteractiveMethod import InteractiveMethodError\n",
    "from desdeov2.methods.Nautilus import ENautilus\n",
    "from desdeov2.problem.Problem import ScalarDataProblem\n",
    "\n",
    "# the first argument should be the variables, but we don't have those,\n",
    "# so just use the objectives.\n",
    "problem = ScalarDataProblem(data, data)\n",
    "method = ENautilus(problem)\n",
    "method.initialize(5, 6)\n",
    "\n",
    "print(\"Nadir\", np.around(method.nadir, 2))\n",
    "print(\"Ideal\", np.around(method.ideal, 2))"
   ]
  },
  {
   "cell_type": "markdown",
   "metadata": {},
   "source": [
    "By comparing the (rounded) nadir and ideal points to the points in the article:\n",
    "\n",
    "| Point | f1        | f2    | f3      |\n",
    "|-------|-----------|-------|---------|\n",
    "| Nadir | -408.49,  | 9.28, | -22.13  |\n",
    "| Ideal | -47526.37 | 0.05  | -100.00 |\n",
    "\n",
    "we can see that they match. This is the only thing we can really compare qualitatively.\n",
    "\n",
    "After the first iteration, we get the following points and limits:"
   ]
  },
  {
   "cell_type": "code",
   "execution_count": null,
   "metadata": {},
   "outputs": [],
   "source": [
    "zs, lows = method.iterate()\n",
    "print(\"Points\", zs)\n",
    "print(\"Limits\", lows)"
   ]
  },
  {
   "cell_type": "markdown",
   "metadata": {},
   "source": [
    "In the article, the DM chose the point with the lowest value for the 2nd objective. Following the same logic:"
   ]
  },
  {
   "cell_type": "code",
   "execution_count": null,
   "metadata": {},
   "outputs": [],
   "source": [
    "idx = np.argmin(zs[:, 1])\n",
    "pref, pref_low = zs[idx], lows[idx]\n",
    "print(\"Selected point:\", pref)"
   ]
  },
  {
   "cell_type": "markdown",
   "metadata": {},
   "source": [
    "In the article, the selected point was\n",
    "\n",
    "| Point | f1       | f2    | f3     |\n",
    "|-------|----------|-------|--------|\n",
    "| z_1_3 | -949.27, | 7.46, | -35.54 |\n",
    "\n",
    "which is not too far from the point we got.\n",
    "\n",
    "For the next iteration:"
   ]
  },
  {
   "cell_type": "code",
   "execution_count": null,
   "metadata": {},
   "outputs": [],
   "source": [
    "method.interact(pref, pref_low)\n",
    "zs, lows = method.iterate()\n",
    "print(\"Points\", zs)\n",
    "print(\"Limits\", lows)"
   ]
  },
  {
   "cell_type": "markdown",
   "metadata": {},
   "source": [
    "The logic for selecting the next point is hardly applicable here without the DM, therefore, we will choose the point closest to the original point selected by the DM in the 2nd iteration. The point the DM selected was\n",
    "\n",
    "| Point | f1        | f2    | f3     |\n",
    "|-------|-----------|-------|--------|\n",
    "| z_2_2 | -4503.98, | 5.92, | -41.11 |"
   ]
  },
  {
   "cell_type": "code",
   "execution_count": null,
   "metadata": {},
   "outputs": [],
   "source": [
    "# the closest point to this is\n",
    "idx = np.argmin(np.linalg.norm(zs - np.array([-4503.98, 5.92, -41.11]), axis=1))\n",
    "pref, pref_low = zs[idx], lows[idx]\n",
    "\n",
    "method.interact(pref, pref_low)\n",
    "\n",
    "print(\"Selected point:\", pref)"
   ]
  },
  {
   "cell_type": "markdown",
   "metadata": {},
   "source": [
    "We can see this is not too far from the point in the article. Continuing, we once again resort to just calculating the closest given point to the one selected by the DM in the article. The point selected in the 3rd iteration was\n",
    "\n",
    "| Point | f1         | f2    | f3     |\n",
    "|-------|------------|-------|--------|\n",
    "| z_3_3 | −11872.92, | 4.93, | −42.11 |"
   ]
  },
  {
   "cell_type": "code",
   "execution_count": null,
   "metadata": {
    "scrolled": true
   },
   "outputs": [],
   "source": [
    "zs, lows = method.iterate()\n",
    "\n",
    "idx = np.argmin(np.linalg.norm(zs - np.array([-11872.92, 4.93, -42.11]), axis=1))\n",
    "pref, pref_low = zs[idx], lows[idx]\n",
    "\n",
    "method.interact(pref, pref_low)\n",
    "\n",
    "print(\"Selected point:\", pref)"
   ]
  },
  {
   "cell_type": "markdown",
   "metadata": {},
   "source": [
    "Continue like previously, the logic of the DM is not applicable here. The 4th selected point was\n",
    "\n",
    "| Point | f1         | f2    | f3     |\n",
    "|-------|------------|-------|--------|\n",
    "| z_4_4 | −18788.82, | 3.64, | −48.02 |"
   ]
  },
  {
   "cell_type": "code",
   "execution_count": null,
   "metadata": {},
   "outputs": [],
   "source": [
    "zs, lows = method.iterate()\n",
    "\n",
    "idx = np.argmin(np.linalg.norm(zs - np.array([-18788.82, 3.64, -48.02]), axis=1))\n",
    "pref, pref_low = zs[idx], lows[idx]\n",
    "\n",
    "method.interact(pref, pref_low)\n",
    "\n",
    "print(\"Selected point:\", pref)"
   ]
  },
  {
   "cell_type": "markdown",
   "metadata": {},
   "source": [
    "This is again somewhat close to the point in the article. \n",
    "\n",
    "The final solution selected tby the DM in the article was\n",
    "\n",
    "| Point | f1         | f2    | f3     |\n",
    "|-------|------------|-------|--------|\n",
    "| z_5_4 | -25306.11, | 2.13, | -58.88 |\n",
    "\n",
    "The final point given by our method are"
   ]
  },
  {
   "cell_type": "code",
   "execution_count": null,
   "metadata": {},
   "outputs": [],
   "source": [
    "zs, lows = method.iterate()\n",
    "\n",
    "print(\"Points\", zs)\n",
    "print(\"Limits\", lows)"
   ]
  },
  {
   "cell_type": "code",
   "execution_count": null,
   "metadata": {},
   "outputs": [],
   "source": [
    "idx = np.argmin(np.linalg.norm(zs - np.array([-25306.11, 2.13, -58.88]), axis=1))\n",
    "pref, pref_low = zs[idx], lows[idx]\n",
    "\n",
    "print(\"Selected point:\", pref)"
   ]
  },
  {
   "cell_type": "markdown",
   "metadata": {},
   "source": [
    "We see that we did NOT reach exactly the same point as in the article, but the resulting point is still Pareto optimal and close to the point in the article. \n",
    "\n",
    "This disparity can be attributed (in my opinion) to two major factors:\n",
    "1. The clustering algorithm used in the article is not specified, therefore it is probable that the clustering algorithm used here produces different intermediate, even if the reference point is the same as in the article.\n",
    "2. The logic of the DM in the article for selecting intermediate points is not clear and/nor translatable to be replicated here. \n",
    "\n",
    "In light of the previously mentioned factors, we can still conclude that the reached point is _close enough_ to the point reached in the article, and can conclude that E-NAUTILUS works _well enough_.\n",
    "\n",
    "(It is also possible that the results in the article were flawed, but that is hard to investigate since the code for calculating the results in the article are not available...)"
   ]
  }
 ],
 "metadata": {
  "kernelspec": {
   "display_name": "Python 3",
   "language": "python",
   "name": "python3"
  },
  "language_info": {
   "codemirror_mode": {
    "name": "ipython",
    "version": 3
   },
   "file_extension": ".py",
   "mimetype": "text/x-python",
   "name": "python",
   "nbconvert_exporter": "python",
   "pygments_lexer": "ipython3",
   "version": "3.7.4"
  }
 },
 "nbformat": 4,
 "nbformat_minor": 2
}
