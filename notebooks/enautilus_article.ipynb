{
 "cells": [
  {
   "cell_type": "markdown",
   "metadata": {},
   "source": [
    "# Replicating results in the original article for E-NAUTILUS\n",
    "In this example, we try to replicate the results presented in one of the examples in the original E-NAUTILUS paper. Since the method of clustering used is not explicitly presented in the paper, we try to replicate the results in a qualitative sense, instead of a quantitative one. Link to paper: https://www.sciencedirect.com/science/article/pii/S0377221715003203?via%3Dihub\n",
    "\n",
    "Begin by loading the problem and transforming the 1st and 3rd maximization objectives into minimization ones."
   ]
  },
  {
   "cell_type": "code",
   "execution_count": null,
   "metadata": {},
   "outputs": [],
   "source": [
    "import numpy as np\n",
    "\n",
    "data = np.loadtxt(\"../data/article_enautilus.dat\")\n",
    "# transform the objectives\n",
    "data *= np.array([-1, 1, -1])\n",
    "print(data)"
   ]
  },
  {
   "cell_type": "markdown",
   "metadata": {},
   "source": [
    "Next, define the problem and check the nadir and ideal points."
   ]
  },
  {
   "cell_type": "code",
   "execution_count": null,
   "metadata": {},
   "outputs": [],
   "source": [
    "from desdeov2.methods.InteractiveMethod import InteractiveMethodError\n",
    "from desdeov2.methods.Nautilus import ENautilus\n",
    "from desdeov2.problem.Problem import ScalarDataProblem\n",
    "\n",
    "# the first argument should be the variables, but we don't have those,\n",
    "# so just use the objectives.\n",
    "problem = ScalarDataProblem(data, data)\n",
    "method = ENautilus(problem)\n",
    "method.initialize(5, 6)\n",
    "\n",
    "print(\"Nadir\", np.around(method.nadir, 2))\n",
    "print(\"Ideal\", np.around(method.ideal, 2))"
   ]
  },
  {
   "cell_type": "markdown",
   "metadata": {},
   "source": [
    "By comparing the (rounded) nadir and ideal points to the points in the article:\n",
    "\n",
    "| Point | f1        | f2    | f3      |\n",
    "|-------|-----------|-------|---------|\n",
    "| Nadir | -408.49,  | 9.28, | -22.13  |\n",
    "| Ideal | -47526.37 | 0.05  | -100.00 |\n",
    "\n",
    "we can see that they match. This is the only thing we can really compare qualitatively."
   ]
  },
  {
   "cell_type": "code",
   "execution_count": null,
   "metadata": {},
   "outputs": [],
   "source": []
  }
 ],
 "metadata": {
  "kernelspec": {
   "display_name": "Python 3",
   "language": "python",
   "name": "python3"
  },
  "language_info": {
   "codemirror_mode": {
    "name": "ipython",
    "version": 3
   },
   "file_extension": ".py",
   "mimetype": "text/x-python",
   "name": "python",
   "nbconvert_exporter": "python",
   "pygments_lexer": "ipython3",
   "version": "3.7.4"
  }
 },
 "nbformat": 4,
 "nbformat_minor": 2
}
