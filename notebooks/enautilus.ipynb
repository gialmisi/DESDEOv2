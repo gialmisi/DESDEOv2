{
 "cells": [
  {
   "cell_type": "markdown",
   "metadata": {},
   "source": [
    "# Example on how to use E-NAUTILUS with a pre-computed Pareto front\n",
    "We begin by importing the necessary libraries."
   ]
  },
  {
   "cell_type": "code",
   "execution_count": 3,
   "metadata": {},
   "outputs": [],
   "source": [
    "import logging\n",
    "\n",
    "import numpy as np\n",
    "import matplotlib.pyplot as plt\n",
    "from sklearn.preprocessing import MinMaxScaler  # for scaling the data\n",
    "import ipywidgets as widgets\n",
    "\n",
    "from desdeo.problem.Problem import ScalarMOProblem\n",
    "from desdeo.methods.Nautilus import ENautilus\n",
    "\n",
    "logging.getLogger(\"matplotlib\").setLevel(logging.WARNING)"
   ]
  },
  {
   "cell_type": "markdown",
   "metadata": {},
   "source": [
    "For later use, define a function to display the objective functions as grouped bar charts and a function to create a widget to select intermediate points. These function are used for pure visualization, they are not related to the E-Nautilus procedure."
   ]
  },
  {
   "cell_type": "code",
   "execution_count": 4,
   "metadata": {},
   "outputs": [],
   "source": [
    "def display_options(zs, lows=None, names=None):\n",
    "    if np.ndim(zs) == 1:\n",
    "        n_rows = 1\n",
    "        n_cols = len(zs)\n",
    "        zs = np.array([list(zs)])\n",
    "    else:\n",
    "        n_rows, n_cols = zs.shape\n",
    "\n",
    "    bar_width = 1 / (n_cols + 1)\n",
    "\n",
    "    bars = zs.T\n",
    "    xs = np.zeros((n_cols, n_rows))\n",
    "    xs[0] = np.arange(n_rows)\n",
    "    \n",
    "    for i in range(1, n_cols):\n",
    "        xs[i] = xs[i-1] + bar_width\n",
    "\n",
    "    for j in range(n_cols):\n",
    "        plt.bar(xs[j], bars[j], width=bar_width, label='obj_{}'.format(j))\n",
    "        if lows is not None:\n",
    "            plt.bar(xs[j], lows.T[j], color=\"black\", width=bar_width)\n",
    "\n",
    "    plt.legend()\n",
    "    plt.xlabel(\"Options\", fontweight='bold')\n",
    "    if names is None:\n",
    "        names =  [i+1 for i in range(n_rows)]\n",
    "    plt.xticks([(r + bar_width) + (0.5*(n_cols)*bar_width)/2 for r in range(n_rows)], names)\n",
    "    \n",
    "def z_selector(zs):\n",
    "    res = widgets.Dropdown(\n",
    "    options=[i for i in range(1, len(zs)+1)]\n",
    "    )\n",
    "    return res"
   ]
  },
  {
   "cell_type": "markdown",
   "metadata": {},
   "source": [
    "## Loading and scaling the data\n",
    "Next we need to load the representation of the Pareto front into two arrays. One containing the solutions and the other containing the corresponding objective vectors.  Normalize the data between 0 and 1 column wise. This normalization is done because the magnitudes of the different objective function may vary a lot. Visualizing these objectives would be problematic otherwise. This will still give a good idea of the fit of each objective, with 0 being the worst possible value and 1 being the best."
   ]
  },
  {
   "cell_type": "code",
   "execution_count": 5,
   "metadata": {},
   "outputs": [],
   "source": [
    "decision_variables_file = \"./data/decision_result.csv\"\n",
    "objective_vectors_file = \"./data/objective_result.csv\"\n",
    "xs = np.genfromtxt(decision_variables_file, delimiter=',')\n",
    "fs = np.genfromtxt(objective_vectors_file, delimiter=',')\n",
    "\n",
    "scaler = MinMaxScaler()\n",
    "scaler.fit(fs)\n",
    "fs_norm = scaler.transform(fs)"
   ]
  },
  {
   "cell_type": "markdown",
   "metadata": {},
   "source": [
    "## Using E-NAUTILUS\n",
    "Create an ENautilus object and initialize it with the variables and objective vectors. We choose to iterate for 3 iterations and to generate 5 intermediate points during each iteration."
   ]
  },
  {
   "cell_type": "code",
   "execution_count": 6,
   "metadata": {},
   "outputs": [],
   "source": [
    "enautilus = ENautilus()\n",
    "total_iters = 3\n",
    "points_shown = 5\n",
    "\n",
    "nadir, ideal = enautilus.initialize(xs, fs_norm, total_iters, points_shown)"
   ]
  },
  {
   "cell_type": "markdown",
   "metadata": {},
   "source": [
    "After initializing the method, we get the nadir and ideal points estimated from the given objective vectors. Iterations starts from the nadir point. Notice how the nadir is all ones and the ideal is all zeros. This is due to the normalization."
   ]
  },
  {
   "cell_type": "code",
   "execution_count": 7,
   "metadata": {},
   "outputs": [
    {
     "data": {
      "image/png": "[encoded data removed]",
      "text/plain": [
       "<Figure size 432x288 with 1 Axes>"
      ]
     },
     "metadata": {
      "needs_background": "light"
     },
     "output_type": "display_data"
    }
   ],
   "source": [
    "display_options(np.array([nadir, ideal]), names=[\"Nadir\", \"Ideal\"])"
   ]
  },
  {
   "cell_type": "markdown",
   "metadata": {},
   "source": [
    "Run the first iteration which returns the first intermediate points and the corresponding lower bounds of the reachable objective vectors from each of these intermediate points. The lower values are shown as stacked histograms, with the black region showing a lowest reachable value for each objective function from each point."
   ]
  },
  {
   "cell_type": "code",
   "execution_count": 9,
   "metadata": {
    "scrolled": true
   },
   "outputs": [
    {
     "data": {
      "application/vnd.jupyter.widget-view+json": {
       "model_id": "9533b78e865647fc9e476a9f44b1d87c",
       "version_major": 2,
       "version_minor": 0
      },
      "text/plain": [
       "Dropdown(options=(1, 2, 3, 4, 5), value=1)"
      ]
     },
     "metadata": {},
     "output_type": "display_data"
    },
    {
     "data": {
      "image/png": "[encoded data removed]",
      "text/plain": [
       "<Figure size 432x288 with 1 Axes>"
      ]
     },
     "metadata": {
      "needs_background": "light"
     },
     "output_type": "display_data"
    }
   ],
   "source": [
    "zs, lows = enautilus.iterate()\n",
    "display_options(zs, lows=lows)\n",
    "s = z_selector(zs)\n",
    "display(s)"
   ]
  },
  {
   "cell_type": "markdown",
   "metadata": {},
   "source": [
    "We can specify our preferred point to the algorithm in the interaction phase from which the next intermediate points are to be generated. You can use the drop down menu above the bar graph to select a preferred point."
   ]
  },
  {
   "cell_type": "code",
   "execution_count": 10,
   "metadata": {},
   "outputs": [
    {
     "name": "stdout",
     "output_type": "stream",
     "text": [
      "Iterations left: 2\n"
     ]
    }
   ],
   "source": [
    "# s.value is just the value selected in the dropdown menu. Substract one from it for indexing to work.\n",
    "left = enautilus.interact(zs[s.value-1], lows[s.value-1])\n",
    "print(\"Iterations left:\", left)"
   ]
  },
  {
   "cell_type": "markdown",
   "metadata": {},
   "source": [
    "Iterate again from the new selected point."
   ]
  },
  {
   "cell_type": "code",
   "execution_count": 11,
   "metadata": {},
   "outputs": [
    {
     "data": {
      "application/vnd.jupyter.widget-view+json": {
       "model_id": "efb3b495ce0847a8bda90de6ac4b9d34",
       "version_major": 2,
       "version_minor": 0
      },
      "text/plain": [
       "Dropdown(options=(1, 2, 3, 4, 5), value=1)"
      ]
     },
     "metadata": {},
     "output_type": "display_data"
    },
    {
     "data": {
      "image/png": "[encoded data removed]",
      "text/plain": [
       "<Figure size 432x288 with 1 Axes>"
      ]
     },
     "metadata": {
      "needs_background": "light"
     },
     "output_type": "display_data"
    }
   ],
   "source": [
    "zs, lows = enautilus.iterate()\n",
    "display_options(zs, lows=lows)\n",
    "s = z_selector(zs)\n",
    "display(s)"
   ]
  },
  {
   "cell_type": "code",
   "execution_count": 12,
   "metadata": {},
   "outputs": [
    {
     "name": "stdout",
     "output_type": "stream",
     "text": [
      "Iterations left: 1\n"
     ]
    }
   ],
   "source": [
    "left = enautilus.interact(zs[s.value-1], lows[s.value-1])\n",
    "print(\"Iterations left:\", left)"
   ]
  },
  {
   "cell_type": "code",
   "execution_count": 13,
   "metadata": {},
   "outputs": [
    {
     "name": "stderr",
     "output_type": "stream",
     "text": [
      "2019-08-13 23:03:24,434 - /home/kilo/workspace/DESDEOv2/desdeo/methods/Nautilus.py - INFO - Could not generate the requested amount of intermediate points '5'. Generating only '2' points\n"
     ]
    },
    {
     "data": {
      "application/vnd.jupyter.widget-view+json": {
       "model_id": "4abb1ab882104aa5a1633bed47e7445c",
       "version_major": 2,
       "version_minor": 0
      },
      "text/plain": [
       "Dropdown(options=(1, 2, 3, 4, 5), value=1)"
      ]
     },
     "metadata": {},
     "output_type": "display_data"
    },
    {
     "data": {
      "image/png": "[encoded data removed]",
      "text/plain": [
       "<Figure size 432x288 with 1 Axes>"
      ]
     },
     "metadata": {
      "needs_background": "light"
     },
     "output_type": "display_data"
    }
   ],
   "source": [
    "zs, lows = enautilus.iterate()\n",
    "display_options(zs, lows=lows)\n",
    "s = z_selector(zs)\n",
    "display(s)"
   ]
  },
  {
   "cell_type": "markdown",
   "metadata": {},
   "source": [
    "## Final solution\n",
    "For the last iteration, observe that each of the graphs is black, meaning we have reached points where we can no more imporove any of the objective values. In other words, we have reached a set non-dominated solutions.\n",
    "\n",
    "We call interact for the last time, and this time, it will yield the point selected in the last iteration. The objective values are scaled back to the original values.\n",
    "\n",
    "(Later on, the option to project this last point to the Pareto front for example by minimizing an ASF with the last selected point being a reference point, will be added.)"
   ]
  },
  {
   "cell_type": "code",
   "execution_count": 14,
   "metadata": {},
   "outputs": [
    {
     "name": "stdout",
     "output_type": "stream",
     "text": [
      "Final solution: [-0.87455086  4.45274538  4.7680867   7.50936117  7.34593412  7.7234778\n",
      "  6.94200513  6.24827854  5.2224083   5.49695379  5.12369516  0.12470333\n",
      "  1.21256654  0.08853032]\n",
      "With final objective values: [[ 1.93525120e+05  1.96939120e+04 -5.16049191e-01 -5.00000000e-01\n",
      "  -1.56075629e+01]]\n"
     ]
    }
   ],
   "source": [
    "x, f = enautilus.interact(zs[s.value-1], lows[s.value-1])\n",
    "print(\"Final solution:\", x)\n",
    "print(\"With final objective values:\", scaler.inverse_transform(f.reshape(1, -1)))"
   ]
  },
  {
   "cell_type": "code",
   "execution_count": null,
   "metadata": {},
   "outputs": [],
   "source": []
  }
 ],
 "metadata": {
  "kernelspec": {
   "display_name": "desdeo",
   "language": "python",
   "name": "desdeo"
  },
  "language_info": {
   "codemirror_mode": {
    "name": "ipython",
    "version": 3
   },
   "file_extension": ".py",
   "mimetype": "text/x-python",
   "name": "python",
   "nbconvert_exporter": "python",
   "pygments_lexer": "ipython3",
   "version": "3.7.3"
  }
 },
 "nbformat": 4,
 "nbformat_minor": 2
}
