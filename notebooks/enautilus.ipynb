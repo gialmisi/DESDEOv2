{
 "cells": [
  {
   "cell_type": "markdown",
   "metadata": {},
   "source": [
    "# Example on how to use E-NAUTILUS with a pre-computed Pareto front\n",
    "We begin by importing the necessary libraries."
   ]
  },
  {
   "cell_type": "code",
   "execution_count": null,
   "metadata": {},
   "outputs": [],
   "source": [
    "import logging\n",
    "\n",
    "import numpy as np\n",
    "import matplotlib.pyplot as plt\n",
    "from sklearn.preprocessing import MinMaxScaler  # for scaling the data\n",
    "import ipywidgets as widgets\n",
    "import plotly.graph_objects as go\n",
    "from plotly.subplots import make_subplots\n",
    "\n",
    "from desdeo.problem.Problem import ScalarDataProblem\n",
    "from desdeo.methods.Nautilus import ENautilus\n",
    "\n",
    "logging.getLogger(\"matplotlib\").setLevel(logging.WARNING)"
   ]
  },
  {
   "cell_type": "markdown",
   "metadata": {},
   "source": [
    "For later use, define a function to display the objective functions as polar scatter plots and a function to create a widget to select intermediate points. These function are used for pure visualization, they are not related to the E-Nautilus procedure."
   ]
  },
  {
   "cell_type": "code",
   "execution_count": null,
   "metadata": {},
   "outputs": [],
   "source": [
    "def display_options(zs, z_scaler=None, nadir=None, ideal=None, is_max=None, best=None, names=None, titles=None, rows=2, cols=2):\n",
    "    \"\"\"Plots a radial scatter plot showing different solutions and reachable values. \n",
    "    \n",
    "        Args:\n",
    "            zs (np.ndarray): A 2D array with objective vectors to be displayed.\n",
    "            z_scaler (Optional[sklearn.preprocessing.data.MinMaxScaler]): Fitted scaler used to transform\n",
    "            the normalized data into it's original scale.\n",
    "            nadir (Optional[np.ndarray]): A 1D array representing the nadir point.\n",
    "            ideal (Optional[np.ndarray]): A 1D array representing the ideal point.\n",
    "            is_max (Optional[List[bool]]): A 1D array with each truth value representing if an \n",
    "            objective funtion should be maximized or minimized. True implies maximization.\n",
    "            best (Optional[np.ndarray]): A 2D array representing the best reachable values from zs\n",
    "            (E-NAUTILUS specific)\n",
    "            names (Optional[List[str]]): List of names for each of the objectives.\n",
    "            rows (Optional[int]): How many subplots in each row should be displayed.\n",
    "            cols (Optional[int]): How many subplots in each column should be displayed.\n",
    "    \"\"\"\n",
    "\n",
    "    if z_scaler is not None:\n",
    "        zs = z_scaler.inverse_transform(zs)\n",
    "        if best is not None:\n",
    "            best = z_scaler.inverse_transform(best)\n",
    "\n",
    "    if is_max is None:\n",
    "        # assume all to be minimized\n",
    "        is_max = np.full(zs.shape[1], False)\n",
    "\n",
    "    # Transform maximized objectives to an interpetable form\n",
    "    zs_minmax = np.where(is_max, -zs, zs)\n",
    "    if best is not None:\n",
    "        best_minmax = np.where(is_max, -best, best)\n",
    "\n",
    "    if nadir is not None and ideal is not None:\n",
    "        if z_scaler is not None:\n",
    "            nadir = z_scaler.inverse_transform(nadir.reshape(1, -1))\n",
    "            ideal = z_scaler.inverse_transform(ideal.reshape(1, -1))\n",
    "        up, lb = np.where(is_max, -ideal, nadir), np.where(is_max, -nadir, ideal)\n",
    "    else:\n",
    "        up, lb = (np.where(is_max, -np.max(zs, axis=0), np.min(zs, axis=0)),\n",
    "                  np.where(is_max, -np.min(zs, axis=0), np.max(zs, axis=0)))\n",
    "\n",
    "    # Scale the data between up and lb, normalizing it between 0 and 1 for all features\n",
    "    # This is done because radial scatter plots don't support ranges for invidual radial axes.\n",
    "    # Negative numbers are also not supported.\n",
    "    if nadir is not None and ideal is not None:\n",
    "        scaler = MinMaxScaler()\n",
    "        scaler.fit(np.vstack((up, lb)))\n",
    "    else:\n",
    "        scaler = MinMaxScaler((0.1, 1))\n",
    "        scaler.fit(np.vstack((up, lb)))\n",
    "\n",
    "    # scaled solutions\n",
    "    z_scaled = scaler.transform(zs_minmax)\n",
    "    if best is not None:\n",
    "        shadow = scaler.transform(best_minmax)\n",
    "    \n",
    "    # setup the figure\n",
    "    if titles is None:\n",
    "        titles = [\"Candidate {}\".format(i) for i in range(1, len(zs)+1)]\n",
    "    fig = make_subplots(rows=rows,\n",
    "                        cols=cols,\n",
    "                        specs=[[{'type':'polar'}]*cols]*rows,\n",
    "                        subplot_titles=titles,\n",
    "                       )\n",
    "    fig[\"layout\"][\"width\"] = cols*500\n",
    "    fig[\"layout\"][\"height\"] = rows*500\n",
    "    fig[\"layout\"][\"autosize\"] = False\n",
    "    polars = [\"polar\"] + [\"polar{}\".format(i+1) for i in range(1, len(zs))]\n",
    "\n",
    "    dicts = dict(zip(polars,\n",
    "                    [dict(radialaxis=dict(visible=False, range=[0, 1]))]*len(polars)))\n",
    "    fig.update_layout(**dicts,\n",
    "                     title=go.layout.Title(\n",
    "                     text=\"Candidate solutions in Blue,\\nbest reachable values in red.\",\n",
    "                     xref=\"container\",\n",
    "                     x=0.5,\n",
    "                     xanchor=\"center\",\n",
    "                    ))\n",
    "    \n",
    "    if names is None:\n",
    "        names = [\"Objective {}\".format(i) for i in range(1, zs.shape[1] + 1)]\n",
    "\n",
    "    \n",
    "    def index_generator():\n",
    "        for i in range(1, rows+1):\n",
    "            for j in range(1, cols+1):\n",
    "                yield i, j\n",
    "                \n",
    "    gen = index_generator()\n",
    "    traces = []\n",
    "    \n",
    "    for (z_i, z) in enumerate(zs):\n",
    "        try:\n",
    "            i, j = next(gen)\n",
    "        except StopIteration:\n",
    "            break\n",
    "            \n",
    "        if best is not None:\n",
    "            fig.add_trace(\n",
    "                go.Scatterpolar(\n",
    "                    r=shadow[z_i],\n",
    "                    opacity=1,\n",
    "                    theta=names,\n",
    "                    name=\"best\",\n",
    "                    fillcolor='red',\n",
    "                    fill='toself',\n",
    "                    showlegend=False,\n",
    "                    hovertext=best_minmax[z_i],\n",
    "                    hoverinfo='name+theta+text',                    \n",
    "                    line={'color': 'red'},\n",
    "                ),\n",
    "                row=i,\n",
    "                col=j,\n",
    "            )\n",
    "\n",
    "        fig.add_trace(\n",
    "            go.Scatterpolar(\n",
    "                r=z_scaled[z_i],\n",
    "                opacity=0.5,\n",
    "                theta=names,\n",
    "                showlegend=False,\n",
    "                name=\"Candidate {}\".format(z_i+1),\n",
    "                fill='toself',\n",
    "                fillcolor='blue',\n",
    "                hovertext=zs_minmax[z_i],\n",
    "                hoverinfo='name+theta+text',\n",
    "                line={'color': 'blue'},\n",
    "            ),\n",
    "            row=i,\n",
    "            col=j,\n",
    "        )\n",
    "        \n",
    "        if z_i == 0:\n",
    "            polar = \"polar\"\n",
    "        else:\n",
    "            polar = \"polar{}\".format(z_i+1)\n",
    "\n",
    "    for annotation in fig['layout']['annotations']: \n",
    "        annotation['yshift']= 20\n",
    "\n",
    "    fig.show()\n",
    "    \n",
    "def z_selector(zs):\n",
    "    res = widgets.Dropdown(\n",
    "    options=[i for i in range(1, len(zs)+1)])\n",
    "    return res"
   ]
  },
  {
   "cell_type": "markdown",
   "metadata": {},
   "source": [
    "## Loading and scaling the data\n",
    "Next we need to load the representation of the Pareto front into two arrays. One containing the solutions and the other containing the corresponding objective vectors.  Normalize the data between 0 and 1 column wise. The scalers are needed later to scale the data back into its' original scale for visualizations and to display the final results."
   ]
  },
  {
   "cell_type": "code",
   "execution_count": null,
   "metadata": {},
   "outputs": [],
   "source": [
    "decision_variables_file = \"./data/decision_result.csv\"\n",
    "objective_vectors_file = \"./data/objective_result.csv\"\n",
    "xs = np.genfromtxt(decision_variables_file, delimiter=',')\n",
    "fs = np.genfromtxt(objective_vectors_file, delimiter=',')\n",
    "\n",
    "# Defie which objectives are to be maximized\n",
    "is_max = np.array([True, True, False, False, False])\n",
    "fs = np.where(fs, -fs, fs)\n",
    "\n",
    "scaler = MinMaxScaler()\n",
    "scaler.fit(fs)\n",
    "fs_norm = scaler.transform(fs)"
   ]
  },
  {
   "cell_type": "markdown",
   "metadata": {},
   "source": [
    "## Using E-NAUTILUS\n",
    "Create an ENautilus object and initialize it with a ScalarDataProblem containing variable values and objective vectors. We choose to iterate for 3 iterations and to generate 4 intermediate points during each iteration."
   ]
  },
  {
   "cell_type": "code",
   "execution_count": null,
   "metadata": {},
   "outputs": [],
   "source": [
    "problem = ScalarDataProblem(xs, fs_norm)\n",
    "enautilus = ENautilus(problem)\n",
    "total_iters = 3\n",
    "points_shown = 4\n",
    "\n",
    "nadir, ideal = enautilus.initialize(total_iters, points_shown)"
   ]
  },
  {
   "cell_type": "markdown",
   "metadata": {},
   "source": [
    "After initializing the method, we get the nadir and ideal points estimated from the given objective vectors. Iterations starts from the nadir point. Notice how the nadir is all ones and the ideal is all zeros. This is due to the normalization. \n",
    "\n",
    "### NOTE ON THESE PLOTS:\n",
    "The idea is, that when we are maximizing, the best possible value (ideal) is on the edge, and the worst (nadir) in the center. When minimizing, the best possible value (ideal) is in the center and the worst (nadir) on the edges. **The plot showing the nadir and ideal points, however, makes a small exeption. The values supposed to be in the center, are not exactly in the center, but close, as can be seen.** This is because otherwise, all the points would clump together and they could not be explored. In the later plots, the true ideal (if minimizing, otherwise nadir) point is dead in the center. "
   ]
  },
  {
   "cell_type": "code",
   "execution_count": null,
   "metadata": {
    "scrolled": false
   },
   "outputs": [],
   "source": [
    "display_options(np.array([nadir, ideal]), z_scaler=scaler, titles=[\"Nadir\", \"Ideal\"], is_max=is_max, rows=1, cols=2)"
   ]
  },
  {
   "cell_type": "markdown",
   "metadata": {},
   "source": [
    "Run the first iteration which returns the first intermediate points and the corresponding best reachable objective vectors from each of these intermediate points. The best values are shown as the red areas, with values for each objective on the apexes. The value of the intermediate points as the blue areas with values on the apexes. Mouse over to explore."
   ]
  },
  {
   "cell_type": "code",
   "execution_count": null,
   "metadata": {
    "scrolled": false
   },
   "outputs": [],
   "source": [
    "zs, best = enautilus.iterate()\n",
    "display_options(zs, z_scaler=scaler, nadir=nadir, ideal=ideal, best=best, rows=4, cols=3, is_max=is_max)\n",
    "s = z_selector(zs)\n",
    "display(s)"
   ]
  },
  {
   "cell_type": "markdown",
   "metadata": {},
   "source": [
    "We can specify our preferred point to the algorithm in the interaction phase from which the next intermediate points are to be generated. You can use the drop down menu above to select a preferred candidate."
   ]
  },
  {
   "cell_type": "code",
   "execution_count": null,
   "metadata": {},
   "outputs": [],
   "source": [
    "# s.value is just the value selected in the dropdown menu. Substract one from it for indexing to work.\n",
    "left = enautilus.interact(zs[s.value-1], best[s.value-1])\n",
    "print(\"Iterations left:\", left)"
   ]
  },
  {
   "cell_type": "markdown",
   "metadata": {},
   "source": [
    "Iterate again from the new selected point."
   ]
  },
  {
   "cell_type": "code",
   "execution_count": null,
   "metadata": {},
   "outputs": [],
   "source": [
    "zs, best = enautilus.iterate()\n",
    "display_options(zs, z_scaler=scaler, nadir=nadir, ideal=ideal, best=best, rows=3, cols=2, is_max=is_max)\n",
    "s = z_selector(zs)\n",
    "display(s)"
   ]
  },
  {
   "cell_type": "code",
   "execution_count": null,
   "metadata": {},
   "outputs": [],
   "source": [
    "left = enautilus.interact(zs[s.value-1], best[s.value-1])\n",
    "print(\"Iterations left:\", left)"
   ]
  },
  {
   "cell_type": "code",
   "execution_count": null,
   "metadata": {},
   "outputs": [],
   "source": [
    "zs, lows = enautilus.iterate()\n",
    "display_options(zs, z_scaler=scaler, nadir=nadir, ideal=ideal, best=None, rows=3, cols=2, is_max=is_max)\n",
    "s = z_selector(zs)\n",
    "display(s)"
   ]
  },
  {
   "cell_type": "markdown",
   "metadata": {},
   "source": [
    "## Final solution\n",
    "We ahve reached the final solution.\n",
    "\n",
    "We call interact for the last time, and this time, it will yield the point selected in the last iteration. The objective values are scaled back to the original values.\n",
    "\n",
    "(Later on, the option to project this last point to the Pareto front for example by minimizing an ASF with the last selected point being a reference point, will be added.)"
   ]
  },
  {
   "cell_type": "code",
   "execution_count": null,
   "metadata": {},
   "outputs": [],
   "source": [
    "x, f = enautilus.interact(zs[s.value-1], best[s.value-1])\n",
    "print(\"Final solution:\", x)\n",
    "print(\"With final objective values:\", scaler.inverse_transform(f.reshape(1, -1)))"
   ]
  },
  {
   "cell_type": "code",
   "execution_count": null,
   "metadata": {},
   "outputs": [],
   "source": []
  }
 ],
 "metadata": {
  "kernelspec": {
   "display_name": "desdeo",
   "language": "python",
   "name": "desdeo"
  },
  "language_info": {
   "codemirror_mode": {
    "name": "ipython",
    "version": 3
   },
   "file_extension": ".py",
   "mimetype": "text/x-python",
   "name": "python",
   "nbconvert_exporter": "python",
   "pygments_lexer": "ipython3",
   "version": "3.7.4"
  }
 },
 "nbformat": 4,
 "nbformat_minor": 2
}
