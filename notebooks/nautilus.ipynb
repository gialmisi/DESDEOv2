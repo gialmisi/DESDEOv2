{
 "cells": [
  {
   "cell_type": "markdown",
   "metadata": {},
   "source": [
    "# NAUTILUS basic example\n",
    "\n",
    "Suppose we have the problem defined in the analytical problem example:\n",
    "\n",
    "\\begin{equation}\n",
    "\\begin{aligned}\n",
    "& \\underset{\\mathbf x}{\\text{min}}\n",
    "& & x_1^2 - x_2; x_2^2 - 3x_1 \\\\\n",
    "& \\text{s.t.} & &  x_1 + x_2 \\leq 10 \\\\\n",
    "& & &  \\mathbf{x} \\; \\in S, \\\\\n",
    "\\end{aligned}\n",
    "\\end{equation}\n",
    "\n",
    "where the feasible region is\n",
    "\n",
    "\\begin{equation}\n",
    "x_i \\in \\left[-5, 5\\right] \\; \\forall i \\;\\in \\left[1,2\\right].\n",
    "\\end{equation}"
   ]
  },
  {
   "cell_type": "code",
   "execution_count": null,
   "metadata": {},
   "outputs": [],
   "source": [
    "from desdeov2.problem.Problem import ScalarMOProblem\n",
    "from desdeov2.problem.Objective import ScalarObjective\n",
    "from desdeov2.problem.Variable import Variable\n",
    "from desdeov2.problem.Constraint import ScalarConstraint\n",
    "\n",
    "# Args: name, starting value, lower bound, upper bound\n",
    "x1 = Variable(\"x_1\", 0, -0.5, 0.5)\n",
    "x2 = Variable(\"x_2\", 0, -0.5, 0.5)\n",
    "\n",
    "# Args: name, callable\n",
    "obj1 = ScalarObjective(\"f_1\", lambda x: x[0]**2 - x[1])\n",
    "obj2 = ScalarObjective(\"f_2\", lambda x: x[1]**2 - 3*x[0])\n",
    "\n",
    "# Args: name, n of variables, n of objectives, callable\n",
    "cons1 = ScalarConstraint(\"c_1\", 2, 2, lambda x, _: 10 - (x[0] + x[1]))\n",
    "\n",
    "# Args: list of objevtives, variables and constraints\n",
    "problem = ScalarMOProblem([obj1, obj2]\n",
    "                         ,[x1, x2]\n",
    "                         ,[cons1])"
   ]
  },
  {
   "cell_type": "markdown",
   "metadata": {},
   "source": [
    "To solve it using ENAUTILUS is simple. Begin by importing and defining the method."
   ]
  },
  {
   "cell_type": "code",
   "execution_count": null,
   "metadata": {},
   "outputs": [],
   "source": [
    "from desdeov2.methods.Nautilus import Nautilus\n",
    "\n",
    "method = Nautilus(problem)"
   ]
  },
  {
   "cell_type": "markdown",
   "metadata": {},
   "source": [
    "Next, the method must be initialized by supplying it with a desired number of iterations. Let's choose 5 iterations for the sake of the example."
   ]
  },
  {
   "cell_type": "code",
   "execution_count": null,
   "metadata": {},
   "outputs": [],
   "source": [
    "(fs, bounds, d) = method.initialize(5)\n",
    "print(\"Current objective values\", fs)\n",
    "print(\"Lower (worse) and upper (better) bounds of the reachable solutions from the current objective values\", bounds)\n",
    "print(\"Distance to the Pareto front from the current iteration (0: farthest, 100: closest):\", d)"
   ]
  },
  {
   "cell_type": "markdown",
   "metadata": {},
   "source": [
    "Preferences can be expressed in two way. The first way is to simply divide 100 points between all objectives, the more points, the more important it is to improve that objective."
   ]
  },
  {
   "cell_type": "code",
   "execution_count": null,
   "metadata": {},
   "outputs": [],
   "source": [
    "import numpy as np\n",
    "\n",
    "points = np.array([30, 70])\n",
    "remaining_iters = method.interact(percentages=points)\n",
    "\n",
    "(fs, bounds, d) = method.iterate()\n",
    "\n",
    "print(\"Objectives: \", fs)"
   ]
  },
  {
   "cell_type": "markdown",
   "metadata": {},
   "source": [
    "Notice how the objectives have both improved. The other way to indicate preference, is to use indexing. Say, we deem objective 1 to be more important, then"
   ]
  },
  {
   "cell_type": "code",
   "execution_count": null,
   "metadata": {},
   "outputs": [],
   "source": [
    "index_set = np.array([2, 1])\n",
    "remaining_iters = method.interact(index_set=index_set)\n",
    "\n",
    "(fs, bounds, d) = method.iterate()\n",
    "\n",
    "print(\"Objectives: \", fs)"
   ]
  },
  {
   "cell_type": "markdown",
   "metadata": {},
   "source": [
    "Again, the objectives have decreased. This is the basic usage of the algorithm. It can support more advanced stuff. like taking steps back or taking shorter steps. Refer to the documentation and other examples."
   ]
  }
 ],
 "metadata": {
  "kernelspec": {
   "display_name": "desdeov2",
   "language": "python",
   "name": "desdeov2"
  },
  "language_info": {
   "codemirror_mode": {
    "name": "ipython",
    "version": 3
   },
   "file_extension": ".py",
   "mimetype": "text/x-python",
   "name": "python",
   "nbconvert_exporter": "python",
   "pygments_lexer": "ipython3",
   "version": "3.7.4"
  }
 },
 "nbformat": 4,
 "nbformat_minor": 2
}
