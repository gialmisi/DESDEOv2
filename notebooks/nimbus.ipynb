{
 "cells": [
  {
   "cell_type": "markdown",
   "metadata": {},
   "source": [
    "# NIMBUS basic example\n",
    "Consider the data based river pollution problem"
   ]
  },
  {
   "cell_type": "code",
   "execution_count": null,
   "metadata": {},
   "outputs": [],
   "source": [
    "from desdeov2.problem.Problem import ScalarDataProblem\n",
    "\n",
    "import numpy as np\n",
    "\n",
    "data = np.loadtxt(\"./data/riverpollution.dat\")\n",
    "xs, fs = data[:, 0:2], data[:, 2:]\n",
    "problem = ScalarDataProblem(xs, fs)"
   ]
  },
  {
   "cell_type": "markdown",
   "metadata": {},
   "source": [
    "Now we wish to explore the solutions using the synchronous variant of NIMBUS. Let's define the method."
   ]
  },
  {
   "cell_type": "code",
   "execution_count": null,
   "metadata": {},
   "outputs": [],
   "source": [
    "from desdeov2.methods.Nimbus import SNimbus\n",
    "\n",
    "method = SNimbus(problem)"
   ]
  },
  {
   "cell_type": "markdown",
   "metadata": {},
   "source": [
    "Next, initialize it by supllying a number of desired points to be generated each iteration (from 1 to 4) and a starting point. If the starting point is not defined, use a random point."
   ]
  },
  {
   "cell_type": "code",
   "execution_count": null,
   "metadata": {},
   "outputs": [],
   "source": [
    "starting_point = method.initialize(3)\n",
    "print(\"Starting point\", starting_point)"
   ]
  },
  {
   "cell_type": "markdown",
   "metadata": {},
   "source": [
    "The first iteration is quite boring, it just returns the starting point"
   ]
  },
  {
   "cell_type": "code",
   "execution_count": null,
   "metadata": {},
   "outputs": [],
   "source": [
    "points = method.iterate()\n",
    "print(\"Generated point(s)\", points)"
   ]
  },
  {
   "cell_type": "markdown",
   "metadata": {},
   "source": [
    "Preference in S-NIMBUS is given as the classificaiton of each objective function. Say, we wish to decrease the value of objectives 1 and 2, don't care about 3 and we really don't want to let the 4th objective be much worse than, say, 9.05. This preference can be expressed as follows:"
   ]
  },
  {
   "cell_type": "code",
   "execution_count": null,
   "metadata": {},
   "outputs": [],
   "source": [
    "classifications = [(\"<\", 0), (\"<\", 0), (\"0\", 0), (\">=\", 9.05)]\n",
    "method.interact(classifications=classifications)"
   ]
  },
  {
   "cell_type": "markdown",
   "metadata": {},
   "source": [
    "Notice the tuple. The first element is the classificaiton, for example, \"0\" means \"change freely, and \"<\" means \"improve\" (we always assume minimiztion). The second element in the tuple is auxillary data needed by some classifications. For example, the \">=\" means improve \"this objective may decrement until some value\", with some value being above the \"9.20\". S-NIMBUS is quite finicky anout classifications, they must make sense. For example, not everything can be allowed to be improved since we are on the Pareto front after all (if that rocks your boat, see the NAUTILUS family method)."
   ]
  },
  {
   "cell_type": "code",
   "execution_count": null,
   "metadata": {},
   "outputs": [],
   "source": [
    "classifications = [(\"<\", 0), (\"<\", 0), (\"<\", 0), (\"<\", 0)]\n",
    "method.interact(classifications=classifications)"
   ]
  },
  {
   "cell_type": "markdown",
   "metadata": {},
   "source": [
    "See? Very finicky... Anyway, let's iterate."
   ]
  },
  {
   "cell_type": "code",
   "execution_count": null,
   "metadata": {},
   "outputs": [],
   "source": [
    "(xs, fs, archive) = method.iterate()\n",
    "print(\"New solutions:\", fs)"
   ]
  },
  {
   "cell_type": "markdown",
   "metadata": {},
   "source": [
    "And this demonstrates the basic usage of S-NIMBUS. There are more adcanced interaction possibilies as well, like generating intermediate solutions between two preveious points."
   ]
  }
 ],
 "metadata": {
  "kernelspec": {
   "display_name": "desdeov2",
   "language": "python",
   "name": "desdeov2"
  },
  "language_info": {
   "codemirror_mode": {
    "name": "ipython",
    "version": 3
   },
   "file_extension": ".py",
   "mimetype": "text/x-python",
   "name": "python",
   "nbconvert_exporter": "python",
   "pygments_lexer": "ipython3",
   "version": "3.7.4"
  }
 },
 "nbformat": 4,
 "nbformat_minor": 2
}
