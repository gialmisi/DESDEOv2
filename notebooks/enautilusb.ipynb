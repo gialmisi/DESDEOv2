{
 "cells": [
  {
   "cell_type": "markdown",
   "metadata": {},
   "source": [
    "# Simple example on the usage of a variation of E-NAUTILUS\n",
    "E-NAUTILUS-B is a simple variation of E-NAUTILUS which will simply calculate the range of reachable objective values and the distance to the Pareto front for a given point between the nadir and ideal points in some MOO problem."
   ]
  },
  {
   "cell_type": "code",
   "execution_count": null,
   "metadata": {},
   "outputs": [],
   "source": [
    "import numpy as np\n",
    "from desdeov2.methods.Nautilus import ENautilusB\n",
    "from desdeov2.problem.Problem import ScalarDataProblem\n",
    "\n",
    "data = np.loadtxt(\"./data/riverpollution.dat\")\n",
    "xs, fs = data[:, 0:2], data[:, 2:]\n",
    "\n",
    "problem = ScalarDataProblem(xs, fs)\n",
    "method = ENautilusB(problem)\n",
    "# The arguments for the number of iterations and points generated can be whatever in the B-version\n",
    "method.initialize(10, 10)\n",
    "\n",
    "print(\"Nadir:\", method.nadir)\n",
    "print(\"Ideal:\", method.ideal)"
   ]
  },
  {
   "cell_type": "markdown",
   "metadata": {},
   "source": [
    "The starting point is the same as the nadir point."
   ]
  },
  {
   "cell_type": "code",
   "execution_count": null,
   "metadata": {},
   "outputs": [],
   "source": [
    "print(method.zpref)"
   ]
  },
  {
   "cell_type": "markdown",
   "metadata": {},
   "source": [
    "If we now iterate, we should get a distance of zero (we are as far from the Pareto front as possible) and the lower limits should be the same points that are in the ideal (since the whole Pareto front should be reachable from the nadir point)."
   ]
  },
  {
   "cell_type": "code",
   "execution_count": null,
   "metadata": {},
   "outputs": [],
   "source": [
    "lows, dist = method.iterate()\n",
    "print(\"Limits:\", lows)\n",
    "print(\"Distance:\", dist)"
   ]
  },
  {
   "cell_type": "markdown",
   "metadata": {},
   "source": [
    "Next, select a new point slightly better than the nadir."
   ]
  },
  {
   "cell_type": "code",
   "execution_count": null,
   "metadata": {},
   "outputs": [],
   "source": [
    "new_point = method.nadir - np.array([0.1, 0.1, 1, 1])\n",
    "# this just sets method.zpref to new_point\n",
    "method.interact(new_point)\n",
    "\n",
    "new_lows, new_dist = method.iterate()\n",
    "print(\"New limits:\", new_lows)\n",
    "print(\"New distance:\", new_dist)"
   ]
  },
  {
   "cell_type": "markdown",
   "metadata": {},
   "source": [
    "As can be seen, the limits have changed (all of them should be greater than, or equal to, the previous limits, and the point is closer to the Pareto front (a distance of 100 indicates that the point is on the Pareto front).\n",
    "\n",
    "If we select a point _beyond_ the Pareto front, the distance will result in more than 100. For example, the ideal point will result in"
   ]
  },
  {
   "cell_type": "code",
   "execution_count": null,
   "metadata": {},
   "outputs": [],
   "source": [
    "method.interact(method.ideal)\n",
    "# the limits for a non feasible point will be just the ones calculated to the last point.\n",
    "_, ideal_dist = method.iterate()\n",
    "\n",
    "print(\"Ideal distance:\", ideal_dist)"
   ]
  }
 ],
 "metadata": {
  "kernelspec": {
   "display_name": "Python 3",
   "language": "python",
   "name": "python3"
  },
  "language_info": {
   "codemirror_mode": {
    "name": "ipython",
    "version": 3
   },
   "file_extension": ".py",
   "mimetype": "text/x-python",
   "name": "python",
   "nbconvert_exporter": "python",
   "pygments_lexer": "ipython3",
   "version": "3.7.4"
  }
 },
 "nbformat": 4,
 "nbformat_minor": 2
}
